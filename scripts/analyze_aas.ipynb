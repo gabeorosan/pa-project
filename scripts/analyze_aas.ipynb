{
 "cells": [
  {
   "cell_type": "code",
   "execution_count": 40,
   "id": "d20143b9-b22b-43c3-98ed-25a7e55e8a6a",
   "metadata": {},
   "outputs": [],
   "source": [
    "# Create only_ca.txt, which contains ids whose structures have only c alpha atoms\n",
    "#and id_atoms.txt, which maps ids to the number of atoms in the viper pdb coordinate file * 60"
   ]
  },
  {
   "cell_type": "code",
   "execution_count": 5,
   "id": "56c777e1-8c61-4b43-ad6c-02c6be8e4ba6",
   "metadata": {},
   "outputs": [],
   "source": [
    "import os\n",
    "\n",
    "only_ca_ids = []\n",
    "ids = []\n",
    "for filename in os.listdir('pdbs'):\n",
    "    with open('pdbs/' + filename, 'r') as f:\n",
    "        atoms = [l[12:16] for l in f]\n",
    "        if len(set(atoms)) == 1: \n",
    "            only_ca_ids.append(filename.replace('.pdb', ''))\n",
    "        ids.append(filename)"
   ]
  },
  {
   "cell_type": "code",
   "execution_count": 20,
   "id": "4f25d918-0392-4275-b9ea-1298481d5029",
   "metadata": {},
   "outputs": [],
   "source": [
    "with open('data/only_ca.txt', 'w') as f:\n",
    "    for e in only_ca_ids:\n",
    "        f.write(e + '\\n')"
   ]
  },
  {
   "cell_type": "code",
   "execution_count": 38,
   "id": "ad4b053b-56c5-4f95-a5e8-dfc60c569660",
   "metadata": {},
   "outputs": [],
   "source": [
    "id_atoms = {}\n",
    "for e in ids:\n",
    "    id = e.replace('.pdb', '')\n",
    "    with open('pdbs/' + e, 'r') as f:\n",
    "        lines = [l for l in f]\n",
    "        atoms = len(lines)\n",
    "        id_atoms[id] = atoms * 60"
   ]
  },
  {
   "cell_type": "code",
   "execution_count": 39,
   "id": "dca1b351-8c9a-44d7-b928-e347d679b570",
   "metadata": {},
   "outputs": [],
   "source": [
    "with open('data/id_atoms.txt', 'w') as f:\n",
    "    for k in id_atoms:\n",
    "        f.write(k + ' ' + str(id_atoms[k]) + '\\n')"
   ]
  }
 ],
 "metadata": {
  "kernelspec": {
   "display_name": "Python 3 (ipykernel)",
   "language": "python",
   "name": "python3"
  },
  "language_info": {
   "codemirror_mode": {
    "name": "ipython",
    "version": 3
   },
   "file_extension": ".py",
   "mimetype": "text/x-python",
   "name": "python",
   "nbconvert_exporter": "python",
   "pygments_lexer": "ipython3",
   "version": "3.10.6"
  }
 },
 "nbformat": 4,
 "nbformat_minor": 5
}
