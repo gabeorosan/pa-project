{
 "cells": [
  {
   "cell_type": "markdown",
   "id": "ee1d447c-c613-42fd-b85f-da2bddd90b52",
   "metadata": {
    "tags": []
   },
   "source": [
    "# Analyze GP# vs closest AA for specific PAs \n",
    "# and/or filtered by keys (tnumber, genome, etc.)\n",
    "make sure to install openpyxl if you don't have it already\n",
    "```bash\n",
    "pip install openpyxl\n",
    "```\n",
    "reads from:\n",
    "- db.json\n",
    "- id_path.txt (contains ids to analyze data from - use '\\n' delimiter)\n",
    "- id_pa.txt (if you want to use the closest PA, which is the default for generating the website dataset)\n",
    "- find_aas.py output from running it on one or more capsids. Put it in find_aas_output/<PDB_ID>.xlsx (or change the path below)\n",
    "\n",
    "if you want to specify point arrays, set use_closest_pa to False and change the pa_dict variable. Otherwise, only the best fitting PA will be included. If use_closest_pa is False and pa_dict is empty, all available PAs are sampled and the closest point in the first row is used\n",
    "\n",
    "writes to:\n",
    "data_folder/gp_aas.xlsx (additional paths are similar but with automatically created with xl file titles based on filters)"
   ]
  },
  {
   "cell_type": "code",
   "execution_count": 19,
   "id": "0f70cb88-49c4-4081-930f-91da33f73abd",
   "metadata": {},
   "outputs": [],
   "source": [
    "db_file = 'data/db.json'\n",
    "aa_data_folder_path = 'find_aas_output/'\n",
    "use_closest_pa = True\n",
    "id_pa_file = 'data/id_pa.txt'\n",
    "pa_dict = {} # {'1a34': ['30', '123']} -> for capsid 1a34, only include pa30 and pa123. By default all are included\n",
    "id_path = 'data/unids.txt'\n",
    "output_folder_path = './data_folder/'\n",
    "output_file = 'gp_aas.xlsx'"
   ]
  },
  {
   "cell_type": "code",
   "execution_count": 20,
   "id": "4938d6ba",
   "metadata": {},
   "outputs": [],
   "source": [
    "import json\n",
    "import openpyxl\n",
    "from os import listdir\n",
    "from os.path import isfile, join\n",
    "mypath = aa_data_folder_path\n",
    "onlyfiles = [f for f in listdir(mypath) if isfile(join(mypath, f))]\n",
    "\n",
    "from plot_util import *\n",
    "\n",
    "with open(db_file, 'r') as f:\n",
    "    data = json.load(f)\n",
    "\n",
    "if use_closest_pa:\n",
    "    with open(id_pa_file, 'r') as f:\n",
    "        id_pa = {l.split()[0]:l.split()[1] for l in f}\n",
    "    \n",
    "def letters(s):\n",
    "    valids = []\n",
    "    for character in s:\n",
    "        if character.isalpha():\n",
    "            valids.append(character)\n",
    "    return ''.join(valids)"
   ]
  },
  {
   "cell_type": "code",
   "execution_count": 21,
   "id": "5ff8b334-f308-4748-bfad-6901d9a453cd",
   "metadata": {},
   "outputs": [],
   "source": [
    "data['close_aas'] = {}\n",
    "for f in onlyfiles:\n",
    "    if '.xlsx' not in f: continue\n",
    "    xldir = mypath + f\n",
    "    wb = openpyxl.load_workbook(xldir)\n",
    "    v = f.split('_', 1)[-1].split('.')[0]\n",
    "    pas = []\n",
    "    if v in pa_dict: pas = [f\"{v}_pa_{pa}\" for pa in pa_dict[v]]\n",
    "    if len(pas) == 0: pas = wb.sheetnames\n",
    "    if use_closest_pa and v in id_pa: pas = [f\"{v}_pa_{id_pa[v]}\"]\n",
    "    resdict = []\n",
    "    gp_aas = {}\n",
    "    for pa_sh in pas:\n",
    "        sh = wb[pa_sh]\n",
    "        vitems = []\n",
    "        for row in sh.iter_rows():\n",
    "                vitems.append([cell.value for cell in row])\n",
    "        aas = []\n",
    "        ds_aas = {}\n",
    "        for j in range(2, len(vitems)):\n",
    "            for i in range(len(vitems[0])):\n",
    "                if vitems[j][i] is not None and '.' in str(vitems[j][i]):\n",
    "                    d = vitems[j][i]\n",
    "                    ds_aas[d] = vitems[j][i:i+4]\n",
    "                    if j == 2:\n",
    "                        gp_aas[d] = ds_aas[d]\n",
    "                    if d < 5:\n",
    "                        aas.append(letters(vitems[j][i+2]))\n",
    "                        if vitems[j][i+3] != 'N/A': aas.append(letters(vitems[j][i+3]))\n",
    "        resdict.extend(aas)\n",
    "    closest_gp_aa = letters(gp_aas[min(gp_aas.keys())][2])\n",
    "    data['data'][v]['closest_gp_aa'] = closest_gp_aa"
   ]
  },
  {
   "cell_type": "code",
   "execution_count": 22,
   "id": "23138fe3-9939-44e8-bd90-78b2e8a83e8a",
   "metadata": {},
   "outputs": [],
   "source": [
    "with open(id_path, 'r') as f:\n",
    "    ids = [i.replace('\\n', '') for i in f]\n",
    "id_gp = {v: data['data'][v]['gauge_point'] for v in ids if 'gauge_point' in data['data'][v].keys()}\n",
    "gplist = list(set(id_gp.values()))\n",
    "gplist = [str(i) for i in sorted([int(g) for g in gplist])]\n",
    "aalist = ['HIS','ILE', 'ASP', 'ALA', 'PHE', 'ASN', 'GLY', 'SER', 'GLU', 'TRP', 'MET', 'THR', 'CYS', 'ARG', 'PRO', 'LYS', 'UNK', 'VAL', 'GLN', 'TYR', 'LEU']\n",
    "gp_aa_dict = {}\n",
    "\n",
    "for g in gplist:\n",
    "    gp_aa_dict[g] = {a:0 for a in aalist}\n",
    "    for i in ids:\n",
    "        if i in id_gp and id_gp[i] == g and 'closest_gp_aa' in data['data'][i].keys():\n",
    "            caa = data['data'][i]['closest_gp_aa']\n",
    "            if caa not in gp_aa_dict[g]: gp_aa_dict[g][caa] = 0\n",
    "            gp_aa_dict[g][caa] += 1\n",
    "            \n",
    "df = pd.DataFrame.from_dict(gp_aa_dict)"
   ]
  },
  {
   "cell_type": "code",
   "execution_count": 23,
   "id": "dff869b5-1730-4f95-9763-a76538dfb2e2",
   "metadata": {},
   "outputs": [],
   "source": [
    "# Overwrites output path with excel output\n",
    "df.to_excel(output_folder_path + output_file)"
   ]
  },
  {
   "cell_type": "markdown",
   "id": "d3b4ac52-0674-4594-ac34-4b96fd41cb23",
   "metadata": {},
   "source": [
    "# Get data by key (ex: tnumber)"
   ]
  },
  {
   "cell_type": "code",
   "execution_count": 32,
   "id": "1b4e33ac-981e-4377-8549-5ca8d636f9a5",
   "metadata": {},
   "outputs": [],
   "source": [
    "# run this cell to view possible keys\n",
    "for i in list(data['data']['1a34'].keys()): print(i)"
   ]
  },
  {
   "cell_type": "code",
   "execution_count": 31,
   "id": "6b363292-db99-488c-b91f-6e7b877ad49a",
   "metadata": {},
   "outputs": [],
   "source": [
    "# CHANGE KEY TO SPECIFY A DIFFERENT FIELD TO USE\n",
    "# writes data filtered by the chosen key's possible values to separate xl file for each value\n",
    "key = 'tnumber'\n",
    "\n",
    "id_key = {k:v[key] if v[key] != '' else 'NA' for k,v in data['data'].items() if key in v}\n",
    "key_gp_aa_dict = {}\n",
    "for g in list(set(id_key.values())):\n",
    "    key_gp_aa_dict[g] = {}\n",
    "    id_pool = [i for i in ids if i in id_key and id_key[i] == g]\n",
    "    for gp in gplist:\n",
    "        key_gp_aa_dict[g][gp] = {a:0 for a in aalist}\n",
    "        for i in id_pool:\n",
    "            if i in id_gp and id_gp[i] == gp and 'closest_gp_aa' in data['data'][i]:\n",
    "                caa = data['data'][i]['closest_gp_aa']\n",
    "                if caa not in key_gp_aa_dict[g][gp]: key_gp_aa_dict[g][gp][caa] = 0\n",
    "                key_gp_aa_dict[g][gp][caa] += 1 \n",
    "# might want to check to make sure you don't have too many outputs, as each one makes a separate xlsx file\n",
    "# for k in key_gp_aa_dict.keys(): print(k)"
   ]
  },
  {
   "cell_type": "code",
   "execution_count": 29,
   "id": "1aadad29-d57e-454f-9fca-5407226c6f5b",
   "metadata": {},
   "outputs": [],
   "source": [
    "for k,v in key_gp_aa_dict.items():\n",
    "    d = pd.DataFrame.from_dict(v)\n",
    "    d.to_excel(f\"{output_folder}{key}_{k}_{output_file}\")"
   ]
  }
 ],
 "metadata": {
  "kernelspec": {
   "display_name": "Python 3 (ipykernel)",
   "language": "python",
   "name": "python3"
  },
  "language_info": {
   "codemirror_mode": {
    "name": "ipython",
    "version": 3
   },
   "file_extension": ".py",
   "mimetype": "text/x-python",
   "name": "python",
   "nbconvert_exporter": "python",
   "pygments_lexer": "ipython3",
   "version": "3.10.6"
  },
  "vscode": {
   "interpreter": {
    "hash": "fbac73f3796d6a93192ce8211353d25a663db9d1ae3491beb8c364bc387b99b0"
   }
  }
 },
 "nbformat": 4,
 "nbformat_minor": 5
}
