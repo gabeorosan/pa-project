{
 "cells": [
  {
   "cell_type": "code",
   "execution_count": 57,
   "id": "0e36618b-8da8-4c6b-b4f2-cd185ea9b729",
   "metadata": {},
   "outputs": [],
   "source": [
    "#Create a list of viruses with unique family, genus, tnumber, genome combinations\n",
    "# current code removes only_ca structures, see comments to just deprioritize them\n",
    "# resolution breaks ties\n",
    "#Uses res.txt which stores resolution info and writes to uniq_lres.xlsx, id_fold.txt containing fold data\n",
    "# and only_ca.txt containing ids with only c alpha atoms (see analyze_aas.ipynb for details)\n",
    "\n",
    "with open('data/only_ca.txt', 'r') as f:\n",
    "    only_ca = [l.replace('\\n', '') for l in f]\n",
    "\n",
    "import json\n",
    "with open('data/db.json', 'r') as f:\n",
    "    data = json.load(f)\n",
    "\n",
    "\n",
    "fams = data['filters']['family']\n",
    "\n",
    "gens = data['filters']['genus']\n",
    "\n",
    "tnums = data['filters']['tnumber']\n",
    "\n",
    "genomes = data['filters']['genome']\n",
    "\n",
    "reslist = []\n",
    "\n",
    "filters = {'family': fams, 'genus': gens,'tnumber': tnums,'genome': genomes}\n",
    "\n",
    "\n",
    "\n",
    "ids = []\n",
    "el_lists = []\n",
    "for k in data['data']:\n",
    "    el = data['data'][k]\n",
    "    if 'family' in el.keys() and 'genome' in el.keys() and 'genus' in el.keys() and 'tnumber' in el.keys():\n",
    "        el_lists.append([el['family'], el['genus'], el['tnumber'], el['genome'], k])\n",
    "        ids.append(k)\n",
    "        \n",
    "with open('data/res.txt', 'r') as f:\n",
    "    id_res = {l.split()[0]:float(l.split()[1]) for l in f}\n",
    "for k in ids:\n",
    "    if k not in id_res:\n",
    "        id_res[k] = 9999\n",
    "    \n",
    "el_lists_red = [e[:4] for e in el_lists]\n",
    "\n",
    "unique_combs = [t.split(',') for t in list(set([','.join(e) for e in el_lists_red]))]\n",
    "\n",
    "with open('data/id_fold.txt', 'r') as f:\n",
    "    id_fold = {l.split()[0]:l.split(' ',1)[1].replace('\\n', '') for l in f}\n",
    "\n",
    "def find_best(els):\n",
    "    non_ca = [e for e in els if e[2] not in only_ca]\n",
    "    if not len(non_ca):\n",
    "        return []\n",
    "    els = non_ca\n",
    "    '''\n",
    "    uncomment this and comment above if statement to get deprioritized\n",
    "    if len(non_ca):\n",
    "        els = non_ca\n",
    "    '''\n",
    "    resdict = {e[0]:e for e in els}\n",
    "    minres = min(resdict.keys())\n",
    "    return resdict[minres]\n",
    "res_id_tups = [[id_res[i[-1]],i[:4],i[-1]] for i in el_lists]\n",
    "lres = []\n",
    "unids = []\n",
    "for u in unique_combs:\n",
    "    matching = [x for x in res_id_tups if x[1] == u]\n",
    "    best = find_best(matching)\n",
    "    if best == []: continue\n",
    "    fold = id_fold[best[2]] if best[2] in id_fold else ''\n",
    "    lres.append([best[0]] + best[1] + [best[2]] + [fold])\n",
    "    unids.append(best[2])"
   ]
  },
  {
   "cell_type": "code",
   "execution_count": 43,
   "id": "f9152ad6-e661-4207-8a59-6397c112c2ef",
   "metadata": {},
   "outputs": [],
   "source": [
    "columns = ['resolution', 'family', 'genus', 'tnumber', 'genome', 'id', 'fold']\n",
    "\n",
    "dfdict = {}\n",
    "\n",
    "for i in range((len(columns))):\n",
    "    es = [e[i] for e in lres]\n",
    "    dfdict[columns[i]] = es"
   ]
  },
  {
   "cell_type": "code",
   "execution_count": 44,
   "id": "5a7d2b43-66b1-4418-9187-675e6ee4db3f",
   "metadata": {},
   "outputs": [],
   "source": [
    "from openpyxl import Workbook\n",
    "from openpyxl import load_workbook\n",
    "import pandas as pd\n",
    "\n",
    "# xl_file = 'data/uniq_lres_ca_deprioritized.xlsx'\n",
    "xl_file = 'data/uniq_lres_ca_removed.xlsx'\n",
    "df = pd.DataFrame(dfdict)\n",
    "df.to_excel(xl_file, index = False)"
   ]
  },
  {
   "cell_type": "code",
   "execution_count": 46,
   "id": "55356856-acd1-4d85-a069-9510c47743b1",
   "metadata": {},
   "outputs": [],
   "source": [
    "with open('data/unids_ca.txt', 'w') as f:\n",
    "    for i in unids:\n",
    "        f.write(i + '\\n')"
   ]
  },
  {
   "cell_type": "code",
   "execution_count": 63,
   "id": "5e158711-ea84-4c3a-a034-622eca9b2227",
   "metadata": {},
   "outputs": [],
   "source": [
    "'''\n",
    "used to write the ids in the deprioritized list not in the excluded list to uniq_only_ca.txt\n",
    "with open('data/unids_ca.txt', 'r') as f:\n",
    "    unids_exc = [l.replace('\\n', '') for l in f]\n",
    "ext = [e for e in unids if e not in unids_exc]\n",
    "with open('data/uniq_only_ca.txt', 'w') as f:\n",
    "    for i in ext:\n",
    "        f.write(i + '\\n')\n",
    "'''"
   ]
  }
 ],
 "metadata": {
  "kernelspec": {
   "display_name": "Python 3 (ipykernel)",
   "language": "python",
   "name": "python3"
  },
  "language_info": {
   "codemirror_mode": {
    "name": "ipython",
    "version": 3
   },
   "file_extension": ".py",
   "mimetype": "text/x-python",
   "name": "python",
   "nbconvert_exporter": "python",
   "pygments_lexer": "ipython3",
   "version": "3.10.6"
  }
 },
 "nbformat": 4,
 "nbformat_minor": 5
}
